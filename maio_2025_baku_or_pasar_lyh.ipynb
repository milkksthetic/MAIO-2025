{
  "cells": [
    {
      "cell_type": "markdown",
      "id": "10ca7917-a5e0-4440-af58-d1a38af087c3",
      "metadata": {
        "id": "10ca7917-a5e0-4440-af58-d1a38af087c3"
      },
      "source": [
        "# Baku or pasar"
      ]
    },
    {
      "cell_type": "markdown",
      "id": "25913257-588a-4ce0-b559-10c7ff660072",
      "metadata": {
        "id": "25913257-588a-4ce0-b559-10c7ff660072"
      },
      "source": [
        "## Setup"
      ]
    },
    {
      "cell_type": "code",
      "execution_count": 12,
      "id": "839dc4fa-d6e4-4415-90d9-e38642bc40fa",
      "metadata": {
        "id": "839dc4fa-d6e4-4415-90d9-e38642bc40fa",
        "tags": []
      },
      "outputs": [],
      "source": [
        "import requests\n",
        "\n",
        "url = \"https://competitions.aiolympiad.my/api/maio_2025/maio_2025_baku_or_pasar\"\n",
        "\n",
        "def post_answer(data: dict):\n",
        "    response = requests.post(url=url, json=data, headers={\"X-API-Key\": auth_token})\n",
        "    if response.status_code == 200:\n",
        "        return response.json()\n",
        "    else:\n",
        "        return f\"Failed to submit, status code is {response.status_code}\\n{response.text}\""
      ]
    },
    {
      "cell_type": "markdown",
      "id": "9590f6b8-235f-49db-84aa-aa780bb56066",
      "metadata": {
        "id": "9590f6b8-235f-49db-84aa-aa780bb56066"
      },
      "source": [
        "## Introduction"
      ]
    },
    {
      "cell_type": "markdown",
      "id": "babc4867-269f-4263-9f93-da7168a10cde",
      "metadata": {
        "id": "babc4867-269f-4263-9f93-da7168a10cde"
      },
      "source": [
        "You are given two files, `train.jsonl` and `test.jsonl`."
      ]
    },
    {
      "cell_type": "code",
      "execution_count": 13,
      "id": "08195cab-915d-4043-907b-1281b5a25d73",
      "metadata": {
        "id": "08195cab-915d-4043-907b-1281b5a25d73"
      },
      "outputs": [],
      "source": [
        "import json"
      ]
    },
    {
      "cell_type": "code",
      "execution_count": 14,
      "id": "482569d4-2c72-4479-a83b-75ad065a15aa",
      "metadata": {
        "colab": {
          "base_uri": "https://localhost:8080/"
        },
        "id": "482569d4-2c72-4479-a83b-75ad065a15aa",
        "outputId": "12fa753d-f2a4-4038-b017-958176e6648a"
      },
      "outputs": [
        {
          "name": "stdout",
          "output_type": "stream",
          "text": [
            "--2025-03-15 05:32:19--  https://storage.googleapis.com/aiolympiadmy/baku-or-pasar/train.jsonl\n",
            "Resolving storage.googleapis.com (storage.googleapis.com)... 142.250.141.207, 142.251.2.207, 74.125.137.207, ...\n",
            "Connecting to storage.googleapis.com (storage.googleapis.com)|142.250.141.207|:443... connected.\n",
            "HTTP request sent, awaiting response... 200 OK\n",
            "Length: 174414 (170K) [application/octet-stream]\n",
            "Saving to: ‘train.jsonl’\n",
            "\n",
            "train.jsonl         100%[===================>] 170.33K   337KB/s    in 0.5s    \n",
            "\n",
            "2025-03-15 05:32:21 (337 KB/s) - ‘train.jsonl’ saved [174414/174414]\n",
            "\n",
            "--2025-03-15 05:32:21--  https://storage.googleapis.com/aiolympiadmy/baku-or-pasar/test.jsonl\n",
            "Resolving storage.googleapis.com (storage.googleapis.com)... 142.250.141.207, 142.251.2.207, 74.125.137.207, ...\n",
            "Connecting to storage.googleapis.com (storage.googleapis.com)|142.250.141.207|:443... connected.\n",
            "HTTP request sent, awaiting response... 200 OK\n",
            "Length: 18838 (18K) [application/octet-stream]\n",
            "Saving to: ‘test.jsonl’\n",
            "\n",
            "test.jsonl          100%[===================>]  18.40K  --.-KB/s    in 0s      \n",
            "\n",
            "2025-03-15 05:32:22 (78.0 MB/s) - ‘test.jsonl’ saved [18838/18838]\n",
            "\n"
          ]
        }
      ],
      "source": [
        "!wget https://storage.googleapis.com/aiolympiadmy/baku-or-pasar/train.jsonl -O train.jsonl\n",
        "!wget https://storage.googleapis.com/aiolympiadmy/baku-or-pasar/test.jsonl -O test.jsonl"
      ]
    },
    {
      "cell_type": "code",
      "execution_count": 15,
      "id": "22862ac4-8b13-42f8-9316-9ebf217ecbec",
      "metadata": {
        "id": "22862ac4-8b13-42f8-9316-9ebf217ecbec"
      },
      "outputs": [],
      "source": [
        "with open(\"train.jsonl\", \"r\") as f:\n",
        "    train = [json.loads(i) for i in f]"
      ]
    },
    {
      "cell_type": "code",
      "execution_count": 8,
      "id": "85d6e265-8cef-44a6-870a-d9d7796d2f51",
      "metadata": {
        "colab": {
          "base_uri": "https://localhost:8080/"
        },
        "id": "85d6e265-8cef-44a6-870a-d9d7796d2f51",
        "outputId": "da761b17-99df-4d25-d3bc-5326fc607413"
      },
      "outputs": [
        {
          "data": {
            "text/plain": [
              "[{'id': 0,\n",
              "  'text': 'cerai balik cenggitu jaaa, kaknab akan ganti tmpat som, dan kaknab lah perangai yg paling tk semegah jht dari som 😏',\n",
              "  'class': 3},\n",
              " {'id': 1,\n",
              "  'text': 'Pasukan Polis Marin (PPM)\\xa0Wilayah Satu Langkawi\\xa0membongkar\\xa0sindiket penyeludupan minyak diesel ke Thailand menggunakan bot barter trade di Jeti Perikanan Lembaga Kemajuan Ikan Malaysia (LKIM) Kuala Perlis dekat sini semalam.',\n",
              "  'class': 0},\n",
              " {'id': 2,\n",
              "  'text': 'Sebanyak enam buah khemah peniaga bazar Ramadan di Alor Pongsu, Bagan Serai rosak akibat dibadai angin ribut kira-kira pukul 2.30 petang tadi.',\n",
              "  'class': 0},\n",
              " {'id': 3,\n",
              "  'text': 'Mas, di tempat kami ada hamparan batu di aliran sungai, hamparan batu tersebut menyelimuti batang pohon yg sebagian telah mengkristal. Fenomena yg demikian kira2 prosesnya bgmana yah.',\n",
              "  'class': 2},\n",
              " {'id': 4,\n",
              "  'text': 'Gempa bumi kuat berukuran 7.6 pada skala Richter menggegarkan Papua New Guinea dan mengorbankan lima orang, manakala sebilangan yang lain cedera, lapor laman berita Wion News semalam.',\n",
              "  'class': 0}]"
            ]
          },
          "execution_count": 8,
          "metadata": {},
          "output_type": "execute_result"
        }
      ],
      "source": [
        "train[:5]"
      ]
    },
    {
      "cell_type": "markdown",
      "id": "66f09d90-6f5c-4740-9dd9-27e72c90b54f",
      "metadata": {
        "id": "66f09d90-6f5c-4740-9dd9-27e72c90b54f"
      },
      "source": [
        "From inspecting the first five items, you see that you are provided with a list of texts with an associated class. Bahasa baku is tagged with class 0, and bahasa pasar is tagged with classes 1 to 5."
      ]
    },
    {
      "cell_type": "code",
      "execution_count": 16,
      "id": "6354b134-b1e3-4f1f-9429-87c733bd8d0b",
      "metadata": {
        "id": "6354b134-b1e3-4f1f-9429-87c733bd8d0b"
      },
      "outputs": [],
      "source": [
        "with open(\"test.jsonl\", \"r\") as f:\n",
        "    test = [json.loads(i) for i in f]"
      ]
    },
    {
      "cell_type": "code",
      "execution_count": 7,
      "id": "c0d091b6-9418-411d-a4f8-3be2b892195f",
      "metadata": {
        "colab": {
          "base_uri": "https://localhost:8080/"
        },
        "id": "c0d091b6-9418-411d-a4f8-3be2b892195f",
        "outputId": "38897734-6b85-4014-f9d0-fb081e6c5d8e"
      },
      "outputs": [
        {
          "data": {
            "text/plain": [
              "[{'id': 0,\n",
              "  'text': 'SALAH SATU CHANNEL YOUTUBE BELAJAR TOEFL GRATIS TERBAEKKK‼️\\n\\nGUYS YANG MAU PERSIAPAN TES TOEFL, KE CHANNEL INI AJAA, BAGUSSS, LENGKAP BANGET, ADA CONTOH ESSAYSNYA JUGA!\\n\\nPenjelasannya enak, dan bisa banget buat naikin skor TOEFL kamu!'},\n",
              " {'id': 1,\n",
              "  'text': 'Sekumpulan doktor pakar onkologi berjaya menyembuhkan kanser rektum menggunakan sejenis ubat yang masih di peringkat ujian klinikal, lapor akhbar Metro UK, semalam.'},\n",
              " {'id': 2,\n",
              "  'text': 'Dua daripada empat suspek kes samun sebuah klinik pergigian di Taman Melati, Kuala Lumpur pada pukul 6.30 petang semalam berjaya diberkas pihak polis.'},\n",
              " {'id': 3,\n",
              "  'text': 'Ngga siap liat coach naga api ketemu coach naga air di lapangan, makin seru. Selamaat coach'},\n",
              " {'id': 4,\n",
              "  'text': 'Pengeluar dan peruncit barangan kemas terkemuka, Kumpulan HABIB mengorak langkah membangunkan sebuah masjid yang bakal menjadi pusat ibadah dan komuniti di Bandar Tanjong Pinang, Tanjong Tokong, di sini.'}]"
            ]
          },
          "execution_count": 7,
          "metadata": {},
          "output_type": "execute_result"
        }
      ],
      "source": [
        "test[:5]"
      ]
    },
    {
      "cell_type": "markdown",
      "id": "2f9c3aaa-2334-4d3f-add6-ac935be00741",
      "metadata": {
        "id": "2f9c3aaa-2334-4d3f-add6-ac935be00741"
      },
      "source": [
        "You see that `test.jsonl` has a similar format, except it has no `class` key."
      ]
    },
    {
      "cell_type": "markdown",
      "id": "2a1d47d7-0610-450e-ae23-21d779fefc10",
      "metadata": {
        "id": "2a1d47d7-0610-450e-ae23-21d779fefc10"
      },
      "source": [
        "## Your task"
      ]
    },
    {
      "cell_type": "markdown",
      "id": "aa3dfcf5-c465-4d60-ba74-c690b521f47e",
      "metadata": {
        "id": "aa3dfcf5-c465-4d60-ba74-c690b521f47e"
      },
      "source": [
        "Using the data in `train.jsonl`, use any classifier to generate class predictions of 0 and 1 for the text in `test.jsonl`. Write your output to this format below, and submit it to our competition server using the provided `post_answer` function.\n",
        "\n",
        "```python\n",
        "answer = [\n",
        "  {'id': 0, 'class': 0},\n",
        "  {'id': 1, 'class': 0},\n",
        "  {'id': 2, 'class': 0},\n",
        "  {'id': 3, 'class': 0},\n",
        "  {'id': 4, 'class': 0},\n",
        "  {'id': 5, 'class': 0},\n",
        "  ...\n",
        "]\n",
        "\n",
        "post_answer({\"solution\": answer})\n",
        "```\n",
        "\n",
        "Make sure your answer has similar format to this sample answer:\n",
        "\n",
        "```python\n",
        "# Note: this sample answer if submitted will return a score of 0 due to how F1 score works! Do you know why?\n",
        "sample_answer = [{\"id\": i, \"class\": 0} for i in range(len(test))]\n",
        "```\n",
        "\n",
        "Remember to only produce predictions that are either 0 or 1!\n",
        "\n",
        "This challenge will be graded primarily via API submission. Scoring as follows:\n",
        "\n",
        "- Up to 10 pts for model performance, F1 score X 10. F1 score will be calculated via the autograder. 10 submissions allowed. Last submission will be used for scoring.\n",
        "- Please submit your notebook as well! Random notebooks will be inspected to verify API submission results. In addition, partial credit may be granted for incomplete work at discretion"
      ]
    },
    {
      "cell_type": "code",
      "execution_count": 17,
      "id": "94ff7981-0c29-49cb-a700-4e54e018515c",
      "metadata": {
        "colab": {
          "base_uri": "https://localhost:8080/"
        },
        "id": "94ff7981-0c29-49cb-a700-4e54e018515c",
        "outputId": "5a8c3c38-64f2-4ee8-ab4a-910e2f2f654e"
      },
      "outputs": [
        {
          "name": "stdout",
          "output_type": "stream",
          "text": [
            "Validation Accuracy: 0.9817\n",
            "[{'id': 0, 'class': 1}, {'id': 1, 'class': 0}, {'id': 2, 'class': 0}, {'id': 3, 'class': 1}, {'id': 4, 'class': 0}, {'id': 5, 'class': 1}, {'id': 6, 'class': 0}, {'id': 7, 'class': 1}, {'id': 8, 'class': 1}, {'id': 9, 'class': 1}, {'id': 10, 'class': 0}, {'id': 11, 'class': 1}, {'id': 12, 'class': 1}, {'id': 13, 'class': 0}, {'id': 14, 'class': 1}, {'id': 15, 'class': 1}, {'id': 16, 'class': 1}, {'id': 17, 'class': 0}, {'id': 18, 'class': 0}, {'id': 19, 'class': 0}, {'id': 20, 'class': 0}, {'id': 21, 'class': 0}, {'id': 22, 'class': 0}, {'id': 23, 'class': 1}, {'id': 24, 'class': 1}, {'id': 25, 'class': 0}, {'id': 26, 'class': 1}, {'id': 27, 'class': 1}, {'id': 28, 'class': 0}, {'id': 29, 'class': 0}, {'id': 30, 'class': 1}, {'id': 31, 'class': 1}, {'id': 32, 'class': 0}, {'id': 33, 'class': 0}, {'id': 34, 'class': 0}, {'id': 35, 'class': 1}, {'id': 36, 'class': 1}, {'id': 37, 'class': 0}, {'id': 38, 'class': 0}, {'id': 39, 'class': 1}, {'id': 40, 'class': 0}, {'id': 41, 'class': 1}, {'id': 42, 'class': 0}, {'id': 43, 'class': 0}, {'id': 44, 'class': 1}, {'id': 45, 'class': 0}, {'id': 46, 'class': 1}, {'id': 47, 'class': 1}, {'id': 48, 'class': 1}, {'id': 49, 'class': 1}, {'id': 50, 'class': 1}, {'id': 51, 'class': 0}, {'id': 52, 'class': 0}, {'id': 53, 'class': 1}, {'id': 54, 'class': 0}, {'id': 55, 'class': 1}, {'id': 56, 'class': 1}, {'id': 57, 'class': 0}, {'id': 58, 'class': 1}, {'id': 59, 'class': 0}, {'id': 60, 'class': 1}, {'id': 61, 'class': 0}, {'id': 62, 'class': 1}, {'id': 63, 'class': 1}, {'id': 64, 'class': 1}, {'id': 65, 'class': 0}, {'id': 66, 'class': 0}, {'id': 67, 'class': 1}, {'id': 68, 'class': 1}, {'id': 69, 'class': 1}, {'id': 70, 'class': 1}, {'id': 71, 'class': 1}, {'id': 72, 'class': 0}, {'id': 73, 'class': 0}, {'id': 74, 'class': 1}, {'id': 75, 'class': 0}, {'id': 76, 'class': 1}, {'id': 77, 'class': 0}, {'id': 78, 'class': 0}, {'id': 79, 'class': 0}, {'id': 80, 'class': 0}, {'id': 81, 'class': 0}, {'id': 82, 'class': 1}, {'id': 83, 'class': 0}, {'id': 84, 'class': 1}, {'id': 85, 'class': 0}, {'id': 86, 'class': 0}, {'id': 87, 'class': 0}, {'id': 88, 'class': 1}, {'id': 89, 'class': 0}, {'id': 90, 'class': 0}, {'id': 91, 'class': 1}, {'id': 92, 'class': 0}]\n"
          ]
        },
        {
          "data": {
            "text/plain": [
              "{'status': 'SUCCESS',\n",
              " 'message': 'Answer for challenge maio_2025_baku_or_pasar submitted successfully on 2025-03-15 05:32:38.326702+00:00. Total submissions is 1 / 10.'}"
            ]
          },
          "execution_count": 17,
          "metadata": {},
          "output_type": "execute_result"
        }
      ],
      "source": [
        "# Your work below\n",
        "import re\n",
        "\n",
        "from sklearn.feature_extraction.text import TfidfVectorizer\n",
        "from sklearn.model_selection import train_test_split\n",
        "from sklearn.linear_model import LogisticRegression\n",
        "\n",
        "# function to preprocess text by changing all to lowercase and removing special characters\n",
        "def preprocess(text):\n",
        "  text = text.lower()\n",
        "  text = re.sub(r\"[^\\w\\s]\", \"\", text)\n",
        "  return text\n",
        "\n",
        "# relabel classes\n",
        "texts = []\n",
        "labels = []\n",
        "\n",
        "for item in train:\n",
        "  if item[\"class\"] == 0:\n",
        "    labels.append(0) # keep class 0 as 0 for bahasa baku\n",
        "\n",
        "  else:\n",
        "    labels.append(1) # convert all classes 1-5 into 1 for bahasa pasar\n",
        "  texts.append(item[\"text\"])\n",
        "\n",
        "# apply preprocessing\n",
        "texts = [preprocess(text) for text in texts]\n",
        "\n",
        "# convert text into features\n",
        "vectorizer = TfidfVectorizer(ngram_range=(1, 2), max_features=10000)\n",
        "X = vectorizer.fit_transform(texts)\n",
        "y = labels\n",
        "\n",
        "# split data into 80% train, 20% validate\n",
        "X_train, X_val, y_train, y_val = train_test_split(X, y, test_size=0.2, random_state=42)\n",
        "\n",
        "# train the model\n",
        "clf = LogisticRegression(random_state=42)\n",
        "clf.fit(X_train, y_train)\n",
        "\n",
        "# check validation accuracy\n",
        "val_accuracy = clf.score(X_val, y_val)\n",
        "print(f\"Validation Accuracy: {val_accuracy:.4f}\")\n",
        "\n",
        "# apply preprocessing to test data\n",
        "test_texts = [preprocess(item[\"text\"]) for item in test]\n",
        "\n",
        "# convert text into features\n",
        "X_test = vectorizer.transform(test_texts)\n",
        "\n",
        "# predict 0 or 1 only\n",
        "test_preds = clf.predict(X_test)\n",
        "\n",
        "# save answer in the given format\n",
        "answer = [{\"id\": test[i][\"id\"], \"class\": int(test_preds[i])} for i in range(len(test))]\n",
        "\n",
        "# check if answer in correct format\n",
        "print(answer)\n",
        "\n",
        "post_answer({\"solution\": answer})"
      ]
    }
  ],
  "metadata": {
    "colab": {
      "provenance": []
    },
    "kernelspec": {
      "display_name": "Python [conda env:ml]",
      "language": "python",
      "name": "conda-env-ml-py"
    },
    "language_info": {
      "codemirror_mode": {
        "name": "ipython",
        "version": 3
      },
      "file_extension": ".py",
      "mimetype": "text/x-python",
      "name": "python",
      "nbconvert_exporter": "python",
      "pygments_lexer": "ipython3",
      "version": "3.13.1"
    }
  },
  "nbformat": 4,
  "nbformat_minor": 5
}
