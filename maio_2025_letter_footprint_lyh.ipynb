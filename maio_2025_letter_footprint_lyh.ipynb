{
  "cells": [
    {
      "cell_type": "markdown",
      "id": "da183de2-5237-48c8-b364-340e9733257e",
      "metadata": {
        "id": "da183de2-5237-48c8-b364-340e9733257e"
      },
      "source": [
        "# The footprint of a letter"
      ]
    },
    {
      "cell_type": "markdown",
      "id": "9ac182cd-2c96-4bb1-8357-1c8db1f73262",
      "metadata": {
        "id": "9ac182cd-2c96-4bb1-8357-1c8db1f73262"
      },
      "source": [
        "## Setup"
      ]
    },
    {
      "cell_type": "code",
      "execution_count": 3,
      "id": "ab196f52-97e6-4ea6-9c91-a915e3d04122",
      "metadata": {
        "id": "ab196f52-97e6-4ea6-9c91-a915e3d04122",
        "tags": []
      },
      "outputs": [],
      "source": [
        "import requests\n",
        "\n",
        "url = \"https://competitions.aiolympiad.my/api/maio_2025/maio_2025_letter_footprint\"\n",
        "\n",
        "def post_answer(data: dict):\n",
        "    response = requests.post(url=url, json=data, headers={\"X-API-Key\": auth_token})\n",
        "    if response.status_code == 200:\n",
        "        return response.json()\n",
        "    else:\n",
        "        return f\"Failed to submit, status code is {response.status_code}\\n{response.text}\""
      ]
    },
    {
      "cell_type": "markdown",
      "id": "b7375ae4-2d8f-4f01-9573-318e1dca942d",
      "metadata": {
        "id": "b7375ae4-2d8f-4f01-9573-318e1dca942d"
      },
      "source": [
        "## Introduction"
      ]
    },
    {
      "cell_type": "markdown",
      "id": "08316f08-fc1f-4b13-8d57-faadd9bc1960",
      "metadata": {
        "id": "08316f08-fc1f-4b13-8d57-faadd9bc1960"
      },
      "source": [
        "You are provided with this model below."
      ]
    },
    {
      "cell_type": "code",
      "execution_count": 4,
      "id": "21f6b76a-121e-4eb9-a9b2-5068b47473c6",
      "metadata": {
        "id": "21f6b76a-121e-4eb9-a9b2-5068b47473c6",
        "tags": []
      },
      "outputs": [],
      "source": [
        "# You need Pytorch for this!\n",
        "import torch\n",
        "import torch.nn as nn\n",
        "import torch.nn.functional as F"
      ]
    },
    {
      "cell_type": "code",
      "execution_count": 5,
      "id": "a4e9a5e5-4df2-4db8-82be-c44b9b22b8bc",
      "metadata": {
        "colab": {
          "base_uri": "https://localhost:8080/",
          "height": 35
        },
        "id": "a4e9a5e5-4df2-4db8-82be-c44b9b22b8bc",
        "outputId": "aa6de49a-e8a4-4e1f-f778-3019be42d75f"
      },
      "outputs": [
        {
          "data": {
            "application/vnd.google.colaboratory.intrinsic+json": {
              "type": "string"
            },
            "text/plain": [
              "'2.6.0+cu124'"
            ]
          },
          "execution_count": 5,
          "metadata": {},
          "output_type": "execute_result"
        }
      ],
      "source": [
        "# As long as you are on version 2.x of Pytorch, you'll be fine!\n",
        "torch.__version__"
      ]
    },
    {
      "cell_type": "code",
      "execution_count": 6,
      "id": "a402b1fb-b7d5-4d4d-83d3-76aacc53ff84",
      "metadata": {
        "colab": {
          "base_uri": "https://localhost:8080/"
        },
        "id": "a402b1fb-b7d5-4d4d-83d3-76aacc53ff84",
        "outputId": "9d677cfe-91bd-471d-e745-f8ae93b15a5e"
      },
      "outputs": [
        {
          "data": {
            "text/plain": [
              "<torch._C.Generator at 0x7fd8984ab0b0>"
            ]
          },
          "execution_count": 6,
          "metadata": {},
          "output_type": "execute_result"
        }
      ],
      "source": [
        "# Do you know why it is important that this seed is fixed?\n",
        "# Google or ask an LLM assistant if you don't! :)\n",
        "torch.manual_seed(42)"
      ]
    },
    {
      "cell_type": "code",
      "execution_count": 7,
      "id": "6bbfaf42-b987-4c60-bbb9-9c0f27dce0fc",
      "metadata": {
        "id": "6bbfaf42-b987-4c60-bbb9-9c0f27dce0fc"
      },
      "outputs": [],
      "source": [
        "class SimpleNet(nn.Module):\n",
        "    def __init__(self, input_size: int, hidden_size: int, output_size: int):\n",
        "        super().__init__()\n",
        "\n",
        "        # Define layers\n",
        "        self.fc1 = nn.Linear(input_size, hidden_size)\n",
        "        self.relu = nn.ReLU()\n",
        "        self.fc2 = nn.Linear(hidden_size, output_size)\n",
        "\n",
        "        # Specific weight initialization\n",
        "        self._initialize_weights()\n",
        "\n",
        "    def _initialize_weights(self):\n",
        "        # Initialize weights with random values\n",
        "        nn.init.normal_(self.fc1.weight, mean=0.0, std=0.02)\n",
        "        nn.init.normal_(self.fc2.weight, mean=0.0, std=0.02)\n",
        "\n",
        "        # Initialize biases to zero\n",
        "        nn.init.constant_(self.fc1.bias, 0.0)\n",
        "        nn.init.constant_(self.fc2.bias, 0.0)\n",
        "\n",
        "    def forward(self, x):\n",
        "        x = self.fc1(x)\n",
        "        x = self.relu(x)\n",
        "        x = self.fc2(x)\n",
        "        return x"
      ]
    },
    {
      "cell_type": "code",
      "execution_count": 8,
      "id": "d73965f4-0b49-49f2-adda-16d35db7d850",
      "metadata": {
        "id": "d73965f4-0b49-49f2-adda-16d35db7d850"
      },
      "outputs": [],
      "source": [
        "model = SimpleNet(input_size=26, hidden_size=64, output_size=50).to(\"cpu\")"
      ]
    },
    {
      "cell_type": "markdown",
      "id": "7607511a-d969-48cb-8830-623d07bbf87b",
      "metadata": {
        "id": "7607511a-d969-48cb-8830-623d07bbf87b"
      },
      "source": [
        "Notice how the input size is 26. This is entirely by design, such that each element of the input corresponds with each letter of the alphabet."
      ]
    },
    {
      "cell_type": "markdown",
      "id": "77cf889b-4442-45ee-84fc-c2d80604fd43",
      "metadata": {
        "id": "77cf889b-4442-45ee-84fc-c2d80604fd43"
      },
      "source": [
        "You are also provided with this list of vectors below."
      ]
    },
    {
      "cell_type": "code",
      "execution_count": 9,
      "id": "92db8e31-144d-4915-a054-f0db1d80b5dd",
      "metadata": {
        "id": "92db8e31-144d-4915-a054-f0db1d80b5dd"
      },
      "outputs": [],
      "source": [
        "footprint1 = torch.FloatTensor([\n",
        "    -0.0293, -0.1092, -0.0290,  0.0885,  0.0623, -0.1106, -0.0229,  0.1987,\n",
        "    -0.1062,  0.1949, -0.0279,  0.0705, -0.2228, -0.0478, -0.1745,  0.1071,\n",
        "    -0.0549,  0.1062,  0.1074, -0.0229, -0.1208, -0.0866, -0.1071, -0.0919,\n",
        "     0.1597,  0.1101,  0.0335,  0.0424, -0.1154,  0.0375,  0.0545, -0.2223,\n",
        "    -0.0270, -0.0340,  0.0261,  0.1256,  0.0372, -0.0898, -0.1757,  0.1671,\n",
        "    -0.1561,  0.0908,  0.0166, -0.0705, -0.0078, -0.0120, -0.0082, -0.0245,\n",
        "    -0.1756, -0.0689\n",
        "])"
      ]
    },
    {
      "cell_type": "code",
      "execution_count": 10,
      "id": "00cf4b0c-fe96-4412-865e-d33c12c7203e",
      "metadata": {
        "id": "00cf4b0c-fe96-4412-865e-d33c12c7203e"
      },
      "outputs": [],
      "source": [
        "footprint2 = torch.FloatTensor([\n",
        "    -0.1702, -0.2287, -0.0547, 0.0448, 0.2204, 0.0330, -0.1223, 0.0966,\n",
        "    -0.0118, -0.0911, 0.1477, 0.1065, -0.3109, -0.0817, -0.0824, 0.1230,\n",
        "    0.1757, 0.1231, -0.0162, -0.1775, -0.1278, -0.1683, 0.1159, 0.1903,\n",
        "    -0.0053, 0.0484, -0.0476, 0.0044, -0.0514, -0.1619, -0.0399, 0.0002,\n",
        "    0.0555, -0.2482, -0.0462, -0.4026, -0.0799, -0.3325, -0.0719, 0.2053,\n",
        "    0.0951, 0.2918, -0.0194, -0.0637, -0.1995, 0.1005, -0.0509, -0.0357,\n",
        "    -0.2760, -0.1030\n",
        "])"
      ]
    },
    {
      "cell_type": "code",
      "execution_count": 11,
      "id": "d1dffa51-7ae1-4e87-a1bc-66c0fcb5b3b6",
      "metadata": {
        "id": "d1dffa51-7ae1-4e87-a1bc-66c0fcb5b3b6"
      },
      "outputs": [],
      "source": [
        "footprint3 = torch.FloatTensor([\n",
        "    -0.1158, -0.2736, -0.1917,  0.1027, -0.0901,  0.3210, -0.1885,  0.1472,\n",
        "     0.1963, -0.1349, -0.2345,  0.5342, -0.2488,  0.2003, -0.0306, -0.1891,\n",
        "     0.1288,  0.2327,  0.0963, -0.1089, -0.2410,  0.1069, -0.1464, -0.2085,\n",
        "     0.0420,  0.1267, -0.1581, -0.0614,  0.0604,  0.0312, -0.2559,  0.0039,\n",
        "     0.3445, -0.0059,  0.0890, -0.0916,  0.1148,  0.0775,  0.0633,  0.1515,\n",
        "    -0.1137,  0.0521, -0.0418,  0.0388, -0.0424,  0.0375, -0.0586,  0.0932,\n",
        "    -0.0640, -0.1933\n",
        "])"
      ]
    },
    {
      "cell_type": "code",
      "execution_count": 12,
      "id": "d884ca06-e052-4f38-a3a1-324c5b6d4f7b",
      "metadata": {
        "id": "d884ca06-e052-4f38-a3a1-324c5b6d4f7b"
      },
      "outputs": [],
      "source": [
        "footprint4 = torch.FloatTensor([\n",
        "    0.2047, -0.2309, -0.2069, -0.3843,  0.0616, -0.0781,  0.1256,  0.2333,\n",
        "    -0.0234, -0.0146, -0.3804,  0.3934, -0.1173, -0.2266, -0.2054,  0.0861,\n",
        "    -0.0513,  0.1966,  0.1906,  0.0125, -0.3607, -0.2924, -0.0591, -0.3109,\n",
        "     0.3125,  0.4452, -0.1773, -0.1590, -0.2283, -0.0456, -0.0041, -0.0896,\n",
        "     0.1555, -0.1307,  0.2646, -0.1352,  0.1714,  0.0815,  0.3392, -0.2495,\n",
        "     0.2008, -0.0400,  0.0700, -0.1225, -0.3702, -0.2685,  0.0006, -0.2181,\n",
        "    -0.0386, -0.4234\n",
        "])"
      ]
    },
    {
      "cell_type": "markdown",
      "id": "a4bbdd58-1f4b-4346-ba90-dd5b5a5c8a0b",
      "metadata": {
        "id": "a4bbdd58-1f4b-4346-ba90-dd5b5a5c8a0b"
      },
      "source": [
        "Each vector corresponds to outputs of the network when specific letters are passed through the network. The network takes in letters by accepting a 26-dim vector that is all zeros save for the $i^{th}$ position having a non-zero value, representing the $i^{th}$ letter in the alphabet.\n",
        "\n",
        "These letters left nothing behind aside from these \"footprints\"."
      ]
    },
    {
      "cell_type": "markdown",
      "id": "36982301-de04-4d6c-8ce6-79d59a5904c4",
      "metadata": {
        "id": "36982301-de04-4d6c-8ce6-79d59a5904c4"
      },
      "source": [
        "## Your task"
      ]
    },
    {
      "cell_type": "markdown",
      "id": "7244dc24-9ebc-479c-980e-da10aff39298",
      "metadata": {
        "id": "7244dc24-9ebc-479c-980e-da10aff39298"
      },
      "source": [
        "Find the four letters that led to the \"footprints\" above. When you do, submit your answer following the example below. Make sure your letters are all lowercase and combined into a single string.\n",
        "\n",
        "```python\n",
        "post_answer({\"solution\": \"abcd\"})\n",
        "```\n",
        "\n",
        "This challenge will be graded via both API submission and notebook submission. Scoring as follows:\n",
        "\n",
        "- 2 pts for submitting the correct string through `post_answer()`. Score will be calculated via autograder. 10 submissions allowed.\n",
        "- 2 pts if (a) your answer is correct, and (b) your notebook submission demonstrates a method that shows clear logical reasoning with verifiable steps.\n",
        "- 3 pts if (a) your answer is correct, and (b) your notebook submission shows your method will still have similar runtime even if the number of characters in the alphabet is increased to 10,000.\n",
        "- 3 pts if (a) your answer is correct, and (b) you can find the numerical values used to represent the letters in the first place! Get within +/-5% for your answers to count.\n",
        "- Partial credit to be given at discretion"
      ]
    },
    {
      "cell_type": "code",
      "execution_count": 13,
      "id": "9ca83ecb-e28b-4ed3-8953-60a5af953d75",
      "metadata": {
        "colab": {
          "base_uri": "https://localhost:8080/"
        },
        "id": "9ca83ecb-e28b-4ed3-8953-60a5af953d75",
        "outputId": "11a00457-0b61-49e9-f35b-221b0dc286e7"
      },
      "outputs": [
        {
          "name": "stdout",
          "output_type": "stream",
          "text": [
            "Identified letters: oiam\n",
            "\n",
            "Footprint 1 vs. letter 'o':\n",
            "Model output (first 5 values): [-0.0007317269337363541, -0.002731061540544033, -0.0007260831189341843, 0.0022127944976091385, 0.0015582827618345618]\n",
            "Footprint (first 5 values): [-0.02930000051856041, -0.10920000076293945, -0.028999999165534973, 0.0885000005364418, 0.062300000339746475]\n",
            "Percent error (first 5 values): [97.50260925292969, 97.49901580810547, 97.4962387084961, 97.49966430664062, 97.49872589111328]\n",
            "\n",
            "Footprint 2 vs. letter 'i':\n",
            "Model output (first 5 values): [-0.002837108913809061, -0.0038117575459182262, -0.0009116705041378736, 0.0007459884509444237, 0.0036729788407683372]\n",
            "Footprint (first 5 values): [-0.17020000517368317, -0.22869999706745148, -0.05469999834895134, 0.04479999840259552, 0.22040000557899475]\n",
            "Percent error (first 5 values): [98.33306884765625, 98.33329010009766, 98.33330535888672, 98.3348159790039, 98.33348846435547]\n",
            "\n",
            "Footprint 3 vs. letter 'a':\n",
            "Model output (first 5 values): [-0.001446984359063208, -0.0034196977503597736, -0.0023965132422745228, 0.0012842315481975675, -0.0011259086895734072]\n",
            "Footprint (first 5 values): [-0.11580000072717667, -0.2736000120639801, -0.19169999659061432, 0.10270000249147415, -0.09009999781847]\n",
            "Percent error (first 5 values): [98.75043487548828, 98.75010681152344, 98.7498550415039, 98.74951934814453, 98.75037384033203]\n",
            "\n",
            "Footprint 4 vs. letter 'm':\n",
            "Model output (first 5 values): [0.002047377871349454, -0.002309184055775404, -0.002069425070658326, -0.0038431279826909304, 0.0006159867043606937]\n",
            "Footprint (first 5 values): [0.20469999313354492, -0.23090000450611115, -0.2069000005722046, -0.38429999351501465, 0.06159999966621399]\n",
            "Percent error (first 5 values): [98.99980926513672, 98.99990844726562, 98.99978637695312, 98.99996185302734, 99.0]\n"
          ]
        }
      ],
      "source": [
        "# Your work below :)\n",
        "footprints = torch.stack([footprint1, footprint2, footprint3, footprint4])\n",
        "\n",
        "# one-hot encoded letter representations\n",
        "one_hot_letters = torch.eye(26)  # shape: [26, 26]\n",
        "\n",
        "# pass all one-hot vectors through the model in a single batch call\n",
        "with torch.no_grad():\n",
        "  model_footprints = model(one_hot_letters) # shape: [26, 50]\n",
        "\n",
        "# compare outputs to provided footprints\n",
        "# compute cosine similarity between each provided footprint and every model_footprint\n",
        "similarities = F.cosine_similarity(footprints.unsqueeze(1), model_footprints.unsqueeze(0), dim=2)\n",
        "\n",
        "# for each provided footprint, pick the letter index with the highest similarity\n",
        "letter_indices = similarities.argmax(dim=1)\n",
        "\n",
        "# convert indices to letters and print\n",
        "alphabet = \"abcdefghijklmnopqrstuvwxyz\"\n",
        "\n",
        "identified_letters = ''.join([alphabet[idx] for idx in letter_indices])\n",
        "\n",
        "print(\"Identified letters:\", identified_letters)\n",
        "\n",
        "post_answer({\"solution\": identified_letters})\n",
        "\n",
        "# compare outputs and compute percent error\n",
        "for i, idx in enumerate(letter_indices):\n",
        "  model_output = model_footprints[idx]\n",
        "  provided = footprints[i]\n",
        "\n",
        "  # calculate percentage error (avoid division by zero)\n",
        "  percent_error = (torch.abs(model_output - provided) / (torch.abs(provided) + 1e-8)) * 100\n",
        "\n",
        "  # display results\n",
        "  print(f\"\\nFootprint {i+1} vs. letter '{alphabet[idx]}':\")\n",
        "  print(\"Model output (first 5 values):\", model_output[:5].tolist())\n",
        "  print(\"Footprint (first 5 values):\", provided[:5].tolist())\n",
        "  print(\"Percent error (first 5 values):\", percent_error[:5].tolist())\n"
      ]
    }
  ],
  "metadata": {
    "colab": {
      "provenance": []
    },
    "kernelspec": {
      "display_name": "colpali",
      "language": "python",
      "name": "colpali"
    },
    "language_info": {
      "codemirror_mode": {
        "name": "ipython",
        "version": 3
      },
      "file_extension": ".py",
      "mimetype": "text/x-python",
      "name": "python",
      "nbconvert_exporter": "python",
      "pygments_lexer": "ipython3",
      "version": "3.10.12"
    }
  },
  "nbformat": 4,
  "nbformat_minor": 5
}
