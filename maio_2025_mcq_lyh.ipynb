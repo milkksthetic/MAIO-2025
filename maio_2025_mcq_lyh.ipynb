{
  "cells": [
    {
      "cell_type": "markdown",
      "id": "08e5f891-b63a-4776-9f41-3ec76a0c8e38",
      "metadata": {
        "id": "08e5f891-b63a-4776-9f41-3ec76a0c8e38"
      },
      "source": [
        "# Multiple choice questions"
      ]
    },
    {
      "cell_type": "markdown",
      "id": "eeee6dc4-b8c5-4bc9-a366-5addd4dc523b",
      "metadata": {
        "id": "eeee6dc4-b8c5-4bc9-a366-5addd4dc523b"
      },
      "source": [
        "Make sure you edit cells that say `# YOUR EDIT HERE #`. Otherwise, you are free to modify the provided scaffolding code as you wish, and you are free to use LLM tools like ChatGPT, Claude, and Gemini. If you accidentally break the code used for submitting your answer, download the notebook again and copy-paste the original submission code from there.\n",
        "\n",
        "You must run `post_answer` at the end to submit all of your answers for a score! Your latest submission will be considered for your score. Submission limit 10 times.\n",
        "\n",
        "Glhf! - Nian Wei"
      ]
    },
    {
      "cell_type": "markdown",
      "id": "ec63dae4-f8ba-4b57-a72a-de4e1c514a1f",
      "metadata": {
        "id": "ec63dae4-f8ba-4b57-a72a-de4e1c514a1f"
      },
      "source": [
        "## Setup"
      ]
    },
    {
      "cell_type": "code",
      "execution_count": null,
      "id": "03050362-dd2d-4c45-81a7-f08eeb52ba00",
      "metadata": {
        "id": "03050362-dd2d-4c45-81a7-f08eeb52ba00",
        "tags": []
      },
      "outputs": [],
      "source": [
        "import requests\n",
        "\n",
        "url = \"https://competitions.aiolympiad.my/api/maio_2025/maio_2025_mcq\"\n",
        "\n",
        "def post_answer(data: dict):\n",
        "    response = requests.post(url=url, json=data, headers={\"X-API-Key\": auth_token})\n",
        "    if response.status_code == 200:\n",
        "        return response.json()\n",
        "    else:\n",
        "        return f\"Failed to submit, status code is {response.status_code}\\n{response.text}\""
      ]
    },
    {
      "cell_type": "code",
      "execution_count": null,
      "id": "c18a9a41-e698-44c2-9229-1efef2eca3ed",
      "metadata": {
        "id": "c18a9a41-e698-44c2-9229-1efef2eca3ed"
      },
      "outputs": [],
      "source": [
        "# This is where we'll store your answers\n",
        "answers = {i:\"\" for i in range(1, 21)}"
      ]
    },
    {
      "cell_type": "markdown",
      "id": "ff0581d8-29f8-476f-9a55-673c3c35a15c",
      "metadata": {
        "id": "ff0581d8-29f8-476f-9a55-673c3c35a15c"
      },
      "source": [
        "## Question 1"
      ]
    },
    {
      "cell_type": "markdown",
      "id": "8b7117f2-d735-4fc0-ad7e-d07dbc5c4193",
      "metadata": {
        "id": "8b7117f2-d735-4fc0-ad7e-d07dbc5c4193"
      },
      "source": [
        "What is the output of the following code snippet?\n",
        "\n",
        "```python\n",
        "def multiply_and_sum(x, y):\n",
        "    total = 0\n",
        "    for i in range(x):\n",
        "        total += i * y\n",
        "    return total\n",
        "\n",
        "print(multiply_and_sum(4, 3))\n",
        "```\n",
        "```\n",
        "A. 18\n",
        "B. 24\n",
        "C. 30\n",
        "D. 36\n",
        "```"
      ]
    },
    {
      "cell_type": "code",
      "execution_count": null,
      "id": "f36a50bf-24ef-4d7f-954e-367369d4a742",
      "metadata": {
        "id": "f36a50bf-24ef-4d7f-954e-367369d4a742",
        "tags": []
      },
      "outputs": [],
      "source": [
        "# YOUR EDIT HERE #\n",
        "# 1-based indexing\n",
        "answers[1] = \"A\""
      ]
    },
    {
      "cell_type": "markdown",
      "id": "c3154e21-a94e-4805-9cd3-a72ae11f6234",
      "metadata": {
        "id": "c3154e21-a94e-4805-9cd3-a72ae11f6234"
      },
      "source": [
        "## Question 2"
      ]
    },
    {
      "cell_type": "markdown",
      "id": "e4213ed9-155f-4ecb-b05a-3eb17e46d17c",
      "metadata": {
        "id": "e4213ed9-155f-4ecb-b05a-3eb17e46d17c"
      },
      "source": [
        "Given the following code, what does np.sum(arr, axis=0) return?\n",
        "\n",
        "```\n",
        "import numpy as np\n",
        "arr = np.array([[1, 2], [3, 4], [5, 6]])\n",
        "```\n",
        "\n",
        "```\n",
        "A. [15, 15]\n",
        "B. [9, 12]\n",
        "C. [8, 10]\n",
        "D. [6, 12]\n",
        "```"
      ]
    },
    {
      "cell_type": "code",
      "execution_count": null,
      "id": "fd7714f1-daa7-4a4a-ac66-80b70ddd4ffc",
      "metadata": {
        "id": "fd7714f1-daa7-4a4a-ac66-80b70ddd4ffc",
        "tags": []
      },
      "outputs": [],
      "source": [
        "# YOUR EDIT HERE #\n",
        "answers[2] = \"B\""
      ]
    },
    {
      "cell_type": "markdown",
      "id": "0c649cbf-7041-4004-b97f-652eda7d8594",
      "metadata": {
        "id": "0c649cbf-7041-4004-b97f-652eda7d8594"
      },
      "source": [
        "## Question 3"
      ]
    },
    {
      "cell_type": "markdown",
      "id": "bc99b85f-fc3a-408d-a19d-d93bf02d8828",
      "metadata": {
        "id": "bc99b85f-fc3a-408d-a19d-d93bf02d8828"
      },
      "source": [
        "Which statements accurately describe regression problems? Select all that apply.\n",
        "\n",
        "```\n",
        "I. Regression problems involve predicting continuous values.\n",
        "II. The goal of regression is to minimize the error between predicted and actual continuous values.\n",
        "III. Regression models use cross-entropy as the loss function.\n",
        "IV. In regression, linear regression can be extended to higher dimensions for multidimensional problems.\n",
        "```\n",
        "\n",
        "```\n",
        "A. I and III\n",
        "B. II and IV\n",
        "C. I, II, and IV\n",
        "D. II, III, and IV  \n",
        "```"
      ]
    },
    {
      "cell_type": "code",
      "execution_count": null,
      "id": "e18dc36a-46fa-4dc6-a8d9-d66f7fe87b11",
      "metadata": {
        "id": "e18dc36a-46fa-4dc6-a8d9-d66f7fe87b11",
        "tags": []
      },
      "outputs": [],
      "source": [
        "# YOUR EDIT HERE #\n",
        "answers[3] = \"C\""
      ]
    },
    {
      "cell_type": "markdown",
      "id": "ee3ad58c-032d-4282-830b-0c07bb463124",
      "metadata": {
        "id": "ee3ad58c-032d-4282-830b-0c07bb463124"
      },
      "source": [
        "## Question 4"
      ]
    },
    {
      "cell_type": "markdown",
      "id": "e7da7cf1-38da-4efb-b013-1da3a9d17c45",
      "metadata": {
        "id": "e7da7cf1-38da-4efb-b013-1da3a9d17c45"
      },
      "source": [
        "Which statements accurately describe classification problems? Select all that apply.\n",
        "\n",
        "```\n",
        "I. Classification problems involve predicting continuous values.\n",
        "II. The goal of classification is to create a decision boundary that separates different classes.\n",
        "III. Classification models use mean-squared error as the loss function.\n",
        "IV. In classification, logistic regression is commonly used for binary classification.\n",
        "```\n",
        "\n",
        "```\n",
        "A.  I and III\n",
        "B.  II and IV  \n",
        "C.  I, II, and IV  \n",
        "D.  II, III, and IV\n",
        "```"
      ]
    },
    {
      "cell_type": "code",
      "execution_count": null,
      "id": "19dd991a-fc61-4425-8be5-b0a6a7c3f6ec",
      "metadata": {
        "id": "19dd991a-fc61-4425-8be5-b0a6a7c3f6ec",
        "tags": []
      },
      "outputs": [],
      "source": [
        "# YOUR EDIT HERE #\n",
        "answers[4] = \"B\""
      ]
    },
    {
      "cell_type": "markdown",
      "id": "68a687b9-ec52-4c8a-918c-e9c8c2780248",
      "metadata": {
        "id": "68a687b9-ec52-4c8a-918c-e9c8c2780248"
      },
      "source": [
        "## Question 5"
      ]
    },
    {
      "cell_type": "markdown",
      "id": "3a6d73d6-7d5f-4081-9362-1503bdf7fddb",
      "metadata": {
        "id": "3a6d73d6-7d5f-4081-9362-1503bdf7fddb"
      },
      "source": [
        "What is the process of walking down the surface formed by the cost function and finding the bottom called?\n",
        "\n",
        "```\n",
        "A. Activation\n",
        "B. Backpropagation\n",
        "C. Gradient descent\n",
        "D. Cost function calculation\n",
        "```"
      ]
    },
    {
      "cell_type": "code",
      "execution_count": null,
      "id": "9e89bc9e-fca2-461c-8301-987e69304d90",
      "metadata": {
        "id": "9e89bc9e-fca2-461c-8301-987e69304d90",
        "tags": []
      },
      "outputs": [],
      "source": [
        "# YOUR EDIT HERE #\n",
        "answers[5] = \"C\""
      ]
    },
    {
      "cell_type": "markdown",
      "id": "3f9aa6bf-7ada-4e79-b1d1-1c97bef51200",
      "metadata": {
        "id": "3f9aa6bf-7ada-4e79-b1d1-1c97bef51200"
      },
      "source": [
        "## Question 6"
      ]
    },
    {
      "cell_type": "markdown",
      "id": "bd80fd79-3e15-48ec-9fa5-e0078faf5519",
      "metadata": {
        "id": "bd80fd79-3e15-48ec-9fa5-e0078faf5519"
      },
      "source": [
        "What is the primary purpose of backpropagation in neural networks?\n",
        "\n",
        "```\n",
        "A. To initialize weights\n",
        "B. To normalize the input data\n",
        "C. To compute gradients of the loss with respect to the weights\n",
        "D. To increase the model’s complexity\n",
        "```"
      ]
    },
    {
      "cell_type": "code",
      "execution_count": null,
      "id": "1a9ac6ef-52b8-4457-a0f4-a1d8370bc9ad",
      "metadata": {
        "id": "1a9ac6ef-52b8-4457-a0f4-a1d8370bc9ad",
        "tags": []
      },
      "outputs": [],
      "source": [
        "# YOUR EDIT HERE #\n",
        "answers[6] = \"C\""
      ]
    },
    {
      "cell_type": "markdown",
      "id": "8b606a4f-5e9c-4930-aabb-f2b31d47be08",
      "metadata": {
        "id": "8b606a4f-5e9c-4930-aabb-f2b31d47be08"
      },
      "source": [
        "## Question 7"
      ]
    },
    {
      "cell_type": "markdown",
      "id": "c7cfc418-04a5-480b-ae05-a53f9f3eb0c4",
      "metadata": {
        "id": "c7cfc418-04a5-480b-ae05-a53f9f3eb0c4"
      },
      "source": [
        "What does the Universal Approximation Theorem state about neural networks with a single hidden layer?\n",
        "\n",
        "```\n",
        "A. They can approximate linear functions or those close to linear functions\n",
        "B. They require multiple hidden layers to approximate any continuous function on real numbers, hence the rise of deep learning.\n",
        "C. They can approximate any continuous function on a compact subset of real numbers, given enough neurons and a suitable activation function.\n",
        "D. They are limited to solving problems in one-dimensional spaces.\n",
        "```"
      ]
    },
    {
      "cell_type": "code",
      "execution_count": null,
      "id": "8f5f226a-c8f0-4113-bd82-6d03d7324a39",
      "metadata": {
        "id": "8f5f226a-c8f0-4113-bd82-6d03d7324a39"
      },
      "outputs": [],
      "source": [
        "# YOUR EDIT HERE #\n",
        "answers[7] = \"C\""
      ]
    },
    {
      "cell_type": "markdown",
      "id": "12efc141-6a7f-46f3-9f98-893897d895d7",
      "metadata": {
        "id": "12efc141-6a7f-46f3-9f98-893897d895d7"
      },
      "source": [
        "## Question 8"
      ]
    },
    {
      "cell_type": "markdown",
      "id": "c5bdd9a3-6da2-49d2-9dfe-714e2cf35337",
      "metadata": {
        "id": "c5bdd9a3-6da2-49d2-9dfe-714e2cf35337"
      },
      "source": [
        "What is a kernel in a convolutional neural network?\n",
        "\n",
        "```\n",
        "A. Kernels are the size of the step by which the filter slides across the input image.\n",
        "B. A kernel is a parameter that depends on the number of channels in the input image.\n",
        "C. A kernel is the area of an image in which a convolutional neural network processes.\n",
        "D. Kernels are used to extract the right and relevant features from the input data using the convolution operation.\n",
        "```"
      ]
    },
    {
      "cell_type": "code",
      "execution_count": null,
      "id": "d0324056-523b-4dc2-bd49-b6b5dfa0f8de",
      "metadata": {
        "id": "d0324056-523b-4dc2-bd49-b6b5dfa0f8de"
      },
      "outputs": [],
      "source": [
        "# YOUR EDIT HERE #\n",
        "answers[8] = \"D\""
      ]
    },
    {
      "cell_type": "markdown",
      "id": "d947766e-39f2-4c08-a5a5-856e36ad4daf",
      "metadata": {
        "id": "d947766e-39f2-4c08-a5a5-856e36ad4daf"
      },
      "source": [
        "## Question 9"
      ]
    },
    {
      "cell_type": "markdown",
      "id": "705c308f-27ec-435a-99d4-c97e1dba29ef",
      "metadata": {
        "id": "705c308f-27ec-435a-99d4-c97e1dba29ef"
      },
      "source": [
        "Which of the following scenarios best describes the role of the discriminator in a Generative Adversarial Network (GAN)?\n",
        "\n",
        "```\n",
        "A. The discriminator evaluates both real and generated data, providing feedback to the generator to improve the quality of generated data over time.  \n",
        "B. The discriminator generates high-quality data to compete with the generator and fool the real data.  \n",
        "C. The discriminator ensures that the generator only learns to replicate the training dataset exactly.  \n",
        "D. The discriminator directly optimizes the generator's weights to improve its performance.\n",
        "```"
      ]
    },
    {
      "cell_type": "code",
      "execution_count": null,
      "id": "efbd4f07-e526-4f98-bd35-206a4e9310b9",
      "metadata": {
        "id": "efbd4f07-e526-4f98-bd35-206a4e9310b9"
      },
      "outputs": [],
      "source": [
        "# YOUR EDIT HERE #\n",
        "answers[9] = \"A\""
      ]
    },
    {
      "cell_type": "markdown",
      "id": "65618c5f-dfad-4842-a8c7-35a729a0bcdc",
      "metadata": {
        "id": "65618c5f-dfad-4842-a8c7-35a729a0bcdc"
      },
      "source": [
        "## Question 10"
      ]
    },
    {
      "cell_type": "markdown",
      "id": "e253d9de-73f9-43ee-be7a-00e1d4c3ab23",
      "metadata": {
        "id": "e253d9de-73f9-43ee-be7a-00e1d4c3ab23"
      },
      "source": [
        "Which of the following best describes the role of the attention mechanism in transformer-based language models?\n",
        "\n",
        "```\n",
        "A. They filter out irrelevant training data\n",
        "B. They prevent the model from generating harmful content\n",
        "C. They speed up computation by reducing the need for multiple training epochs\n",
        "D. They allow the model to focus on different parts of the input when generating each part of the output\n",
        "```"
      ]
    },
    {
      "cell_type": "code",
      "execution_count": null,
      "id": "6a3532e6-e475-4aa7-b6b0-61de26cf3546",
      "metadata": {
        "id": "6a3532e6-e475-4aa7-b6b0-61de26cf3546"
      },
      "outputs": [],
      "source": [
        "# YOUR EDIT HERE #\n",
        "answers[10] = \"D\""
      ]
    },
    {
      "cell_type": "markdown",
      "id": "70b1bf50-4b7f-4244-aab4-8fddbe9f4ed5",
      "metadata": {
        "id": "70b1bf50-4b7f-4244-aab4-8fddbe9f4ed5"
      },
      "source": [
        "## Question 11"
      ]
    },
    {
      "cell_type": "markdown",
      "id": "df50ac10-dab1-48d5-914b-4738744d14d5",
      "metadata": {
        "id": "df50ac10-dab1-48d5-914b-4738744d14d5"
      },
      "source": [
        "Which of the following is an example of a pre-trained NLP model?\n",
        "```\n",
        "A. ResNet\n",
        "B. BERT\n",
        "C. YOLO\n",
        "D. U-Net\n",
        "```"
      ]
    },
    {
      "cell_type": "code",
      "execution_count": null,
      "id": "08effa10-990e-4090-822d-290e5a25847d",
      "metadata": {
        "id": "08effa10-990e-4090-822d-290e5a25847d"
      },
      "outputs": [],
      "source": [
        "# YOUR EDIT HERE #\n",
        "answers[11] = \"B\""
      ]
    },
    {
      "cell_type": "markdown",
      "id": "5c5cfe52-fcc1-4a7b-9d5e-2a639a44bf4b",
      "metadata": {
        "id": "5c5cfe52-fcc1-4a7b-9d5e-2a639a44bf4b"
      },
      "source": [
        "## Question 12"
      ]
    },
    {
      "cell_type": "markdown",
      "id": "8238eaa4-b2f9-4a19-b553-9ae3ca1243e4",
      "metadata": {
        "id": "8238eaa4-b2f9-4a19-b553-9ae3ca1243e4"
      },
      "source": [
        "Why doesn't the following code run?\n",
        "\n",
        "```python\n",
        "from transformers import BertTokenizer\n",
        "tokenizer = BertTokenizer.from_pretrained('bert-base-uncased')\n",
        "text = \"Deep Learning is amazing!\"\n",
        "tokens = tokenizer.tokenize(text, add_special_tokens=True)\n",
        "print(tokens)\n",
        "```\n",
        "\n",
        "```\n",
        "A. The tokenizer is not correctly loaded from the model repository.\n",
        "B. The text input must be preprocessed to lowercase manually.\n",
        "C. The method tokenize() does not support the parameter add_special_tokens.\n",
        "D. The code should use tokenizer.encode() instead.\n",
        "```\n"
      ]
    },
    {
      "cell_type": "code",
      "execution_count": null,
      "id": "a02518b0-93b2-4737-beb1-94f244cf9aa4",
      "metadata": {
        "id": "a02518b0-93b2-4737-beb1-94f244cf9aa4"
      },
      "outputs": [],
      "source": [
        "# YOUR EDIT HERE #\n",
        "answers[12] = \"C\""
      ]
    },
    {
      "cell_type": "markdown",
      "id": "c08194b7-b078-44ca-bb90-6a183f2b4abd",
      "metadata": {
        "id": "c08194b7-b078-44ca-bb90-6a183f2b4abd"
      },
      "source": [
        "## Question 13"
      ]
    },
    {
      "cell_type": "markdown",
      "id": "d7850586-9028-4e21-bbea-62fa7f420ecb",
      "metadata": {
        "id": "d7850586-9028-4e21-bbea-62fa7f420ecb"
      },
      "source": [
        "What distinguishes a generative adversarial network (GAN) from other machine learning architectures?\n",
        "\n",
        "```\n",
        "A. It uses supervised learning exclusively\n",
        "B. It consists of two networks that compete against each other during training\n",
        "C. It requires less training data than other approaches\n",
        "D. It can only be used for image classification tasks\n",
        "```"
      ]
    },
    {
      "cell_type": "code",
      "execution_count": null,
      "id": "5677cf9c-e462-42d8-a396-bf78e564a51a",
      "metadata": {
        "id": "5677cf9c-e462-42d8-a396-bf78e564a51a"
      },
      "outputs": [],
      "source": [
        "# YOUR EDIT HERE #\n",
        "answers[13] = \"B\""
      ]
    },
    {
      "cell_type": "markdown",
      "id": "26495a2b-2bfe-4f22-9608-6cede81ec62c",
      "metadata": {
        "id": "26495a2b-2bfe-4f22-9608-6cede81ec62c"
      },
      "source": [
        "## Question 14"
      ]
    },
    {
      "cell_type": "markdown",
      "id": "4379a13a-0e4c-43a1-8658-9c1f023bd177",
      "metadata": {
        "id": "4379a13a-0e4c-43a1-8658-9c1f023bd177"
      },
      "source": [
        "In the context of NLP evaluation, what does \"perplexity\" measure?\n",
        "\n",
        "```\n",
        "A. How many parameters exist in the model\n",
        "B. How diverse the vocabulary is in the generated text\n",
        "C. How similar the model's output is to human writing\n",
        "D. How surprised a model is by new data based on its training\n",
        "```"
      ]
    },
    {
      "cell_type": "code",
      "execution_count": null,
      "id": "1b77de48-b536-4f0b-a0cb-60dabd7b6584",
      "metadata": {
        "id": "1b77de48-b536-4f0b-a0cb-60dabd7b6584"
      },
      "outputs": [],
      "source": [
        "# YOUR EDIT HERE #\n",
        "answers[14] = \"D\""
      ]
    },
    {
      "cell_type": "markdown",
      "id": "c41c1dd4-21eb-4071-84fa-bcc78947042b",
      "metadata": {
        "id": "c41c1dd4-21eb-4071-84fa-bcc78947042b"
      },
      "source": [
        "## Question 15 - 17"
      ]
    },
    {
      "cell_type": "markdown",
      "id": "583e9ac2-d507-4fb9-a61e-fc5e01c57332",
      "metadata": {
        "id": "583e9ac2-d507-4fb9-a61e-fc5e01c57332"
      },
      "source": [
        "Your cousin lives in a condominium on the 5th floor. Many cars pass by on the road visible from his bedroom window every morning. He thinks more than 1000 cars pass by between 7am to 8am during the morning traffic jam. You think the number 1000 is too big, and suggested 500 as a more reasonable estimate. To prove that he is right, your cousin decides to learn AI and train a computer vision model to count cars using a webcam.\n",
        "\n",
        "15. Which learning task below is most relevant to what he is trying to do?\n",
        "\n",
        "```\n",
        "A. Image classification\n",
        "B. Image segmentation\n",
        "C. Video classification\n",
        "D. Object detection\n",
        "```\n"
      ]
    },
    {
      "cell_type": "code",
      "execution_count": null,
      "id": "f25e17de-2087-41f8-a55a-923165f16cb3",
      "metadata": {
        "id": "f25e17de-2087-41f8-a55a-923165f16cb3"
      },
      "outputs": [],
      "source": [
        "# YOUR EDIT HERE #\n",
        "answers[15] = \"D\""
      ]
    },
    {
      "cell_type": "markdown",
      "id": "06c4fd0e-c64d-49fd-98f9-8b55c0d094ac",
      "metadata": {
        "id": "06c4fd0e-c64d-49fd-98f9-8b55c0d094ac"
      },
      "source": [
        "16. Some time later, your cousin came back and reported that he has trained an amazing model with 100% accuracy. Which of the below is most likely what he means by \"accuracy\"?\n",
        "\n",
        "```\n",
        "A. The number of images where his computer vision model detected the presence of cars\n",
        "B. Mean intersection over union score\n",
        "C. Precision i.e. the number of times that his prediction of cars are correct\n",
        "D. Recall i.e. the number of times that when there is actually a car, his computer vision model detected it\n",
        "```\n"
      ]
    },
    {
      "cell_type": "code",
      "execution_count": null,
      "id": "192621ba-5dc7-497d-9a14-35e4d06aed48",
      "metadata": {
        "id": "192621ba-5dc7-497d-9a14-35e4d06aed48"
      },
      "outputs": [],
      "source": [
        "# YOUR EDIT HERE #\n",
        "answers[16] = \"A\""
      ]
    },
    {
      "cell_type": "markdown",
      "id": "9bf2450a-b43c-4f14-9805-025f60004bc4",
      "metadata": {
        "id": "9bf2450a-b43c-4f14-9805-025f60004bc4"
      },
      "source": [
        "17. Which of the following metrics do you think are most important for measuring his model's performance?\n",
        "\n",
        "```\n",
        "A. The number of images where his computer vision model detected cars\n",
        "B. Mean intersection over union score\n",
        "C. Precision i.e. the number of times that his prediction of cars are correct\n",
        "D. Recall i.e. the number of times that when there is actually a car, his computer vision model detected it\n",
        "```"
      ]
    },
    {
      "cell_type": "code",
      "execution_count": null,
      "id": "5506362a-ab6f-40d1-b502-af3a48650109",
      "metadata": {
        "id": "5506362a-ab6f-40d1-b502-af3a48650109"
      },
      "outputs": [],
      "source": [
        "# YOUR EDIT HERE #\n",
        "answers[17] = \"B\""
      ]
    },
    {
      "cell_type": "markdown",
      "id": "c94632ac-be6f-4e16-9f6f-d7af1ad8d984",
      "metadata": {
        "id": "c94632ac-be6f-4e16-9f6f-d7af1ad8d984"
      },
      "source": [
        "## Question 18"
      ]
    },
    {
      "cell_type": "markdown",
      "id": "9c5c0d2a-8c32-432c-8d38-8807699c9f81",
      "metadata": {
        "id": "9c5c0d2a-8c32-432c-8d38-8807699c9f81"
      },
      "source": [
        "Large language model (LLM) chatbots reply to our messages as if they are typing back to us on the spot. Why is it so?\n",
        "\n",
        "```\n",
        "A. Online LLM interfaces deliberate stream text from LLM responses to simulate the experience of speaking to a real human, playing into the sign of the times when LLMs were seen as the next step towards artificial general intelligence. Now it is simply convention.\n",
        "B. It is cheaper to generate and send text in small chunks word-by-word\n",
        "C. LLM's actually do generate text in a chunk-by-chunk fashion by nature\n",
        "D. LLMs require a lot of memory to run! Thus, they are limited to generating a small piece of text every iteration\n",
        "```"
      ]
    },
    {
      "cell_type": "code",
      "execution_count": null,
      "id": "bb9f8c22-080e-4808-97eb-3f00a84d20c7",
      "metadata": {
        "id": "bb9f8c22-080e-4808-97eb-3f00a84d20c7"
      },
      "outputs": [],
      "source": [
        "# YOUR EDIT HERE #\n",
        "answers[18] = \"C\""
      ]
    },
    {
      "cell_type": "markdown",
      "id": "98996ee0-33ec-4015-988f-ca13f3b87705",
      "metadata": {
        "id": "98996ee0-33ec-4015-988f-ca13f3b87705"
      },
      "source": [
        "## Question 19"
      ]
    },
    {
      "cell_type": "markdown",
      "id": "e0e2a818-dfa4-4f03-a79c-05c5b7bd3067",
      "metadata": {
        "id": "e0e2a818-dfa4-4f03-a79c-05c5b7bd3067"
      },
      "source": [
        "You asked an LLM for obscure information on the favourite colors of historical figures. You found out later that the information it gave to you was wrong. Why is it so?\n",
        "\n",
        "```\n",
        "A. LLMs just generate the most probable piece of text\n",
        "B. LLMs lie deliberately when they don't know certain information\n",
        "C. LLMs learn our personalities over time, you were a prankster and it learnt from you\n",
        "D. LLMs misremember things by accident sometimes\n",
        "```"
      ]
    },
    {
      "cell_type": "code",
      "execution_count": null,
      "id": "cdda7e73-60bd-40e7-94ff-4f5dd847b8ee",
      "metadata": {
        "id": "cdda7e73-60bd-40e7-94ff-4f5dd847b8ee"
      },
      "outputs": [],
      "source": [
        "# YOUR EDIT HERE #\n",
        "answers[19] = \"A\""
      ]
    },
    {
      "cell_type": "markdown",
      "id": "fc614a89-a588-43b4-8b8a-ea81ae7b21e5",
      "metadata": {
        "id": "fc614a89-a588-43b4-8b8a-ea81ae7b21e5"
      },
      "source": [
        "## Question 20"
      ]
    },
    {
      "cell_type": "markdown",
      "id": "cb5907f9-1db7-45a6-aafc-06283e9bdd9e",
      "metadata": {
        "id": "cb5907f9-1db7-45a6-aafc-06283e9bdd9e"
      },
      "source": [
        "You are at a fancy festival with your younger sister. A very well done animation is playing on a big screen. Your sister pointed to it and asked if what's on screen is AI. You told her that no, not everything now has AI in it. You explained that maybe some parts of it is generated by AI, but you also know that there are a lot of tools for creating animations without AI.\n",
        "\n",
        "Her question made you think as you two explored the festival. Which aspects of your festival experience do you think might contain elements of AI?\n",
        "\n",
        "```\n",
        "I. The algorithm that recommended the post about the festival on your instagram feed\n",
        "II. Your favourite navigation app (Waze, Google Maps) that you used to drive here\n",
        "III. The swarm of drones doing acrobatic tricks on stage\n",
        "IV. The mascot that gave your little sister a high five as you walked past it\n",
        "```\n",
        "\n",
        "```\n",
        "A. I and III\n",
        "B. II and IV\n",
        "C. I, II, and III\n",
        "D. I, II, III and IV\n",
        "```"
      ]
    },
    {
      "cell_type": "code",
      "execution_count": null,
      "id": "948b0018-0e5c-4e2e-850e-a92c15e77cb6",
      "metadata": {
        "id": "948b0018-0e5c-4e2e-850e-a92c15e77cb6"
      },
      "outputs": [],
      "source": [
        "# YOUR EDIT HERE #\n",
        "answers[20] = \"C\""
      ]
    },
    {
      "cell_type": "markdown",
      "id": "ae8eadbb-5f3f-422a-aa9f-18c1c374d159",
      "metadata": {
        "id": "ae8eadbb-5f3f-422a-aa9f-18c1c374d159"
      },
      "source": [
        "## Submission"
      ]
    },
    {
      "cell_type": "code",
      "execution_count": null,
      "id": "db743716-7a30-48f2-b4d8-64ac25e4a47c",
      "metadata": {
        "colab": {
          "base_uri": "https://localhost:8080/"
        },
        "id": "db743716-7a30-48f2-b4d8-64ac25e4a47c",
        "outputId": "05febf86-d08b-4c5f-e0ea-a4e3a591826b"
      },
      "outputs": [
        {
          "data": {
            "text/plain": [
              "{'status': 'SUCCESS',\n",
              " 'message': 'Answer for challenge maio_2025_mcq submitted successfully on 2025-03-14 13:06:04.247076+00:00. Total submissions is 6 / 10.'}"
            ]
          },
          "execution_count": 36,
          "metadata": {},
          "output_type": "execute_result"
        }
      ],
      "source": [
        "post_answer({\"solution\": answers})"
      ]
    }
  ],
  "metadata": {
    "colab": {
      "provenance": []
    },
    "kernelspec": {
      "display_name": "Python [conda env:ml]",
      "language": "python",
      "name": "conda-env-ml-py"
    },
    "language_info": {
      "codemirror_mode": {
        "name": "ipython",
        "version": 3
      },
      "file_extension": ".py",
      "mimetype": "text/x-python",
      "name": "python",
      "nbconvert_exporter": "python",
      "pygments_lexer": "ipython3",
      "version": "3.13.1"
    }
  },
  "nbformat": 4,
  "nbformat_minor": 5
}
